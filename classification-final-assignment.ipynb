{
 "cells": [
  {
   "cell_type": "markdown",
   "id": "f3a33d69",
   "metadata": {
    "papermill": {
     "duration": 0.011817,
     "end_time": "2025-06-25T04:55:19.545912",
     "exception": false,
     "start_time": "2025-06-25T04:55:19.534095",
     "status": "completed"
    },
    "tags": []
   },
   "source": [
    "# Final Assignment: Classification\n",
    "\n",
    "**What is classification?** In machine learning, classification is the task of categorizing data into predefined classes or categories. It's a type of supervised learning where a model learns from labeled training data to predict the class of new, unseen data. Essentially, it's about teaching a machine to sort things into groups based on learned patterns"
   ]
  },
  {
   "cell_type": "markdown",
   "id": "c6bc37d7",
   "metadata": {
    "papermill": {
     "duration": 0.008842,
     "end_time": "2025-06-25T04:55:19.563890",
     "exception": false,
     "start_time": "2025-06-25T04:55:19.555048",
     "status": "completed"
    },
    "tags": []
   },
   "source": [
    "## 1. Load the required libraries\n",
    "\n",
    "`caret`: Classification and Regression Training <br>\n",
    "`corrplot`: Visualize correlation matrices <br>\n",
    "`ggplot2`: Visualization "
   ]
  },
  {
   "cell_type": "code",
   "execution_count": 1,
   "id": "a16c3708",
   "metadata": {
    "execution": {
     "iopub.execute_input": "2025-06-25T04:55:19.585638Z",
     "iopub.status.busy": "2025-06-25T04:55:19.583502Z",
     "iopub.status.idle": "2025-06-25T04:55:22.890068Z",
     "shell.execute_reply": "2025-06-25T04:55:22.888151Z"
    },
    "papermill": {
     "duration": 3.319926,
     "end_time": "2025-06-25T04:55:22.892564",
     "exception": false,
     "start_time": "2025-06-25T04:55:19.572638",
     "status": "completed"
    },
    "tags": []
   },
   "outputs": [
    {
     "name": "stderr",
     "output_type": "stream",
     "text": [
      "Loading required package: ggplot2\n",
      "\n"
     ]
    },
    {
     "name": "stderr",
     "output_type": "stream",
     "text": [
      "Loading required package: lattice\n",
      "\n"
     ]
    },
    {
     "name": "stderr",
     "output_type": "stream",
     "text": [
      "\n",
      "Attaching package: ‘caret’\n",
      "\n",
      "\n"
     ]
    },
    {
     "name": "stderr",
     "output_type": "stream",
     "text": [
      "The following object is masked from ‘package:httr’:\n",
      "\n",
      "    progress\n",
      "\n",
      "\n"
     ]
    },
    {
     "name": "stderr",
     "output_type": "stream",
     "text": [
      "corrplot 0.92 loaded\n",
      "\n"
     ]
    }
   ],
   "source": [
    "library(caret)\n",
    "library(corrplot)     \n",
    "library(ggplot2) "
   ]
  },
  {
   "cell_type": "markdown",
   "id": "ed7d7aa0",
   "metadata": {
    "papermill": {
     "duration": 0.009375,
     "end_time": "2025-06-25T04:55:22.911373",
     "exception": false,
     "start_time": "2025-06-25T04:55:22.901998",
     "status": "completed"
    },
    "tags": []
   },
   "source": [
    "## 2. Load the dataset\n",
    "\n",
    "Our data is stored in a .csv file. We import it using `read.csv()` function and store it in a list called df."
   ]
  },
  {
   "cell_type": "code",
   "execution_count": 2,
   "id": "066cd749",
   "metadata": {
    "execution": {
     "iopub.execute_input": "2025-06-25T04:55:22.964785Z",
     "iopub.status.busy": "2025-06-25T04:55:22.932815Z",
     "iopub.status.idle": "2025-06-25T04:55:23.011500Z",
     "shell.execute_reply": "2025-06-25T04:55:23.009630Z"
    },
    "papermill": {
     "duration": 0.092583,
     "end_time": "2025-06-25T04:55:23.013949",
     "exception": false,
     "start_time": "2025-06-25T04:55:22.921366",
     "status": "completed"
    },
    "tags": []
   },
   "outputs": [],
   "source": [
    "df <- read.csv(\"/kaggle/input/data-analytics-exam/train_data.csv\")"
   ]
  },
  {
   "cell_type": "markdown",
   "id": "a8409932",
   "metadata": {
    "papermill": {
     "duration": 0.010314,
     "end_time": "2025-06-25T04:55:23.033475",
     "exception": false,
     "start_time": "2025-06-25T04:55:23.023161",
     "status": "completed"
    },
    "tags": []
   },
   "source": [
    "## 3. Preview and data summary"
   ]
  },
  {
   "cell_type": "code",
   "execution_count": 3,
   "id": "019d1f18",
   "metadata": {
    "execution": {
     "iopub.execute_input": "2025-06-25T04:55:23.055919Z",
     "iopub.status.busy": "2025-06-25T04:55:23.054232Z",
     "iopub.status.idle": "2025-06-25T04:55:23.088780Z",
     "shell.execute_reply": "2025-06-25T04:55:23.086374Z"
    },
    "papermill": {
     "duration": 0.048621,
     "end_time": "2025-06-25T04:55:23.091401",
     "exception": false,
     "start_time": "2025-06-25T04:55:23.042780",
     "status": "completed"
    },
    "tags": []
   },
   "outputs": [
    {
     "name": "stdout",
     "output_type": "stream",
     "text": [
      "'data.frame':\t800 obs. of  22 variables:\n",
      " $ ID    : int  836 679 129 930 509 471 299 270 978 187 ...\n",
      " $ V1    : num  1.14 677.29 -211.44 -1614.5 593.62 ...\n",
      " $ V2    : num  2.0407 1.9246 0.0674 -1.2695 -0.8085 ...\n",
      " $ V3    : num  2.0407 1.9246 0.0674 -1.2695 -0.8085 ...\n",
      " $ V4    : int  12 12 12 12 12 12 12 12 12 12 ...\n",
      " $ V5    : chr  \"\\\"1.25658493843886\\\"\" \"\\\"1.03950148489844\\\"\" \"\\\"0.969360903724275\\\"\" \"\\\"-1.44714177892836\\\"\" ...\n",
      " $ V6    : num  1.649 1.4093 1.321 -1.1574 0.0821 ...\n",
      " $ V7    : num  1.72 0.54 1.082 -1.26 -0.396 ...\n",
      " $ V8    : num  3.372 3.293 0.931 -1.817 0.059 ...\n",
      " $ V9    : num  0.925 1.234 1.044 -1.833 -1.382 ...\n",
      " $ V10   : num  1.8725 -0.0696 0.1176 -1.0741 -0.2245 ...\n",
      " $ V11   : num  -1.496 -1.188 0.723 -0.243 -1.287 ...\n",
      " $ V12   : num  -0.0469 -0.0273 -0.5389 -1.1014 0.1935 ...\n",
      " $ V13   : num  0.0169 0.4928 -1.4947 0.7721 -1.1217 ...\n",
      " $ V14   : num  0.4815 0.666 1.0808 0.0418 0.02 ...\n",
      " $ V15   : num  -1.215 -1.433 -0.714 0.256 -0.987 ...\n",
      " $ V16   : num  0.08329 -1.17671 0.71756 1.59295 -0.00266 ...\n",
      " $ V17   : num  0.322 1.169 -1.353 1.296 -1.402 ...\n",
      " $ V18   : num  0.467 0.855 1.364 0.544 -0.775 ...\n",
      " $ V19   : num  0.808 -0.958 0.849 -0.978 -0.42 ...\n",
      " $ V20   : num  -0.652 0.698 -0.169 -0.255 1.305 ...\n",
      " $ target: chr  \"C\" \"C\" \"B\" \"A\" ...\n"
     ]
    }
   ],
   "source": [
    "# Check the structure of our data frame\n",
    "str(df)"
   ]
  },
  {
   "cell_type": "code",
   "execution_count": 4,
   "id": "e20690c4",
   "metadata": {
    "execution": {
     "iopub.execute_input": "2025-06-25T04:55:23.114318Z",
     "iopub.status.busy": "2025-06-25T04:55:23.112679Z",
     "iopub.status.idle": "2025-06-25T04:55:23.158224Z",
     "shell.execute_reply": "2025-06-25T04:55:23.156306Z"
    },
    "papermill": {
     "duration": 0.059915,
     "end_time": "2025-06-25T04:55:23.160895",
     "exception": false,
     "start_time": "2025-06-25T04:55:23.100980",
     "status": "completed"
    },
    "tags": []
   },
   "outputs": [
    {
     "data": {
      "text/html": [
       "<table class=\"dataframe\">\n",
       "<caption>A data.frame: 5 × 22</caption>\n",
       "<thead>\n",
       "\t<tr><th></th><th scope=col>ID</th><th scope=col>V1</th><th scope=col>V2</th><th scope=col>V3</th><th scope=col>V4</th><th scope=col>V5</th><th scope=col>V6</th><th scope=col>V7</th><th scope=col>V8</th><th scope=col>V9</th><th scope=col>⋯</th><th scope=col>V12</th><th scope=col>V13</th><th scope=col>V14</th><th scope=col>V15</th><th scope=col>V16</th><th scope=col>V17</th><th scope=col>V18</th><th scope=col>V19</th><th scope=col>V20</th><th scope=col>target</th></tr>\n",
       "\t<tr><th></th><th scope=col>&lt;int&gt;</th><th scope=col>&lt;dbl&gt;</th><th scope=col>&lt;dbl&gt;</th><th scope=col>&lt;dbl&gt;</th><th scope=col>&lt;int&gt;</th><th scope=col>&lt;chr&gt;</th><th scope=col>&lt;dbl&gt;</th><th scope=col>&lt;dbl&gt;</th><th scope=col>&lt;dbl&gt;</th><th scope=col>&lt;dbl&gt;</th><th scope=col>⋯</th><th scope=col>&lt;dbl&gt;</th><th scope=col>&lt;dbl&gt;</th><th scope=col>&lt;dbl&gt;</th><th scope=col>&lt;dbl&gt;</th><th scope=col>&lt;dbl&gt;</th><th scope=col>&lt;dbl&gt;</th><th scope=col>&lt;dbl&gt;</th><th scope=col>&lt;dbl&gt;</th><th scope=col>&lt;dbl&gt;</th><th scope=col>&lt;chr&gt;</th></tr>\n",
       "</thead>\n",
       "<tbody>\n",
       "\t<tr><th scope=row>1</th><td>836</td><td>    1.143459</td><td> 2.0407125</td><td> 2.0407125</td><td>12</td><td>\"1.25658493843886\" </td><td> 1.6489505</td><td> 1.7200440</td><td> 3.37178138</td><td> 0.9247758</td><td>⋯</td><td>-0.04690121</td><td> 0.01689938</td><td>0.48151973</td><td>-1.2154741</td><td> 0.08328904</td><td> 0.3222243</td><td> 0.4665605</td><td> 0.8078467</td><td>-0.6515033</td><td>C</td></tr>\n",
       "\t<tr><th scope=row>2</th><td>679</td><td>  677.290139</td><td> 1.9245715</td><td> 1.9245715</td><td>12</td><td>\"1.03950148489844\" </td><td> 1.4092986</td><td> 0.5404104</td><td> 3.29302737</td><td> 1.2340239</td><td>⋯</td><td>-0.02732321</td><td> 0.49278780</td><td>0.66601187</td><td>-1.4331175</td><td>-1.17671254</td><td> 1.1687702</td><td> 0.8554406</td><td>-0.9584706</td><td> 0.6980888</td><td>C</td></tr>\n",
       "\t<tr><th scope=row>3</th><td>129</td><td> -211.444696</td><td> 0.0673895</td><td> 0.0673895</td><td>12</td><td>\"0.969360903724275\"</td><td> 1.3210081</td><td> 1.0821632</td><td> 0.93140315</td><td> 1.0437145</td><td>⋯</td><td>-0.53885947</td><td>-1.49474026</td><td>1.08076635</td><td>-0.7142028</td><td> 0.71756283</td><td>-1.3530586</td><td> 1.3642579</td><td> 0.8488479</td><td>-0.1685633</td><td>B</td></tr>\n",
       "\t<tr><th scope=row>4</th><td>930</td><td>-1614.495099</td><td>-1.2695371</td><td>-1.2695371</td><td>12</td><td>\"-1.44714177892836\"</td><td>-1.1573636</td><td>-1.2598247</td><td>-1.81721030</td><td>-1.8331575</td><td>⋯</td><td>-1.10139013</td><td> 0.77209203</td><td>0.04184372</td><td> 0.2557867</td><td> 1.59295319</td><td> 1.2959807</td><td> 0.5438155</td><td>-0.9782200</td><td>-0.2554242</td><td>A</td></tr>\n",
       "\t<tr><th scope=row>5</th><td>509</td><td>  593.617220</td><td>-0.8084618</td><td>-0.8084618</td><td>12</td><td>\"0.403527646302114\"</td><td> 0.0820589</td><td>-0.3956185</td><td> 0.05903553</td><td>-1.3823648</td><td>⋯</td><td> 0.19354402</td><td>-1.12166885</td><td>0.02002768</td><td>-0.9865844</td><td>-0.00265581</td><td>-1.4021331</td><td>-0.7746178</td><td>-0.4196050</td><td> 1.3054071</td><td>A</td></tr>\n",
       "</tbody>\n",
       "</table>\n"
      ],
      "text/latex": [
       "A data.frame: 5 × 22\n",
       "\\begin{tabular}{r|lllllllllllllllllllll}\n",
       "  & ID & V1 & V2 & V3 & V4 & V5 & V6 & V7 & V8 & V9 & ⋯ & V12 & V13 & V14 & V15 & V16 & V17 & V18 & V19 & V20 & target\\\\\n",
       "  & <int> & <dbl> & <dbl> & <dbl> & <int> & <chr> & <dbl> & <dbl> & <dbl> & <dbl> & ⋯ & <dbl> & <dbl> & <dbl> & <dbl> & <dbl> & <dbl> & <dbl> & <dbl> & <dbl> & <chr>\\\\\n",
       "\\hline\n",
       "\t1 & 836 &     1.143459 &  2.0407125 &  2.0407125 & 12 & \"1.25658493843886\"  &  1.6489505 &  1.7200440 &  3.37178138 &  0.9247758 & ⋯ & -0.04690121 &  0.01689938 & 0.48151973 & -1.2154741 &  0.08328904 &  0.3222243 &  0.4665605 &  0.8078467 & -0.6515033 & C\\\\\n",
       "\t2 & 679 &   677.290139 &  1.9245715 &  1.9245715 & 12 & \"1.03950148489844\"  &  1.4092986 &  0.5404104 &  3.29302737 &  1.2340239 & ⋯ & -0.02732321 &  0.49278780 & 0.66601187 & -1.4331175 & -1.17671254 &  1.1687702 &  0.8554406 & -0.9584706 &  0.6980888 & C\\\\\n",
       "\t3 & 129 &  -211.444696 &  0.0673895 &  0.0673895 & 12 & \"0.969360903724275\" &  1.3210081 &  1.0821632 &  0.93140315 &  1.0437145 & ⋯ & -0.53885947 & -1.49474026 & 1.08076635 & -0.7142028 &  0.71756283 & -1.3530586 &  1.3642579 &  0.8488479 & -0.1685633 & B\\\\\n",
       "\t4 & 930 & -1614.495099 & -1.2695371 & -1.2695371 & 12 & \"-1.44714177892836\" & -1.1573636 & -1.2598247 & -1.81721030 & -1.8331575 & ⋯ & -1.10139013 &  0.77209203 & 0.04184372 &  0.2557867 &  1.59295319 &  1.2959807 &  0.5438155 & -0.9782200 & -0.2554242 & A\\\\\n",
       "\t5 & 509 &   593.617220 & -0.8084618 & -0.8084618 & 12 & \"0.403527646302114\" &  0.0820589 & -0.3956185 &  0.05903553 & -1.3823648 & ⋯ &  0.19354402 & -1.12166885 & 0.02002768 & -0.9865844 & -0.00265581 & -1.4021331 & -0.7746178 & -0.4196050 &  1.3054071 & A\\\\\n",
       "\\end{tabular}\n"
      ],
      "text/markdown": [
       "\n",
       "A data.frame: 5 × 22\n",
       "\n",
       "| <!--/--> | ID &lt;int&gt; | V1 &lt;dbl&gt; | V2 &lt;dbl&gt; | V3 &lt;dbl&gt; | V4 &lt;int&gt; | V5 &lt;chr&gt; | V6 &lt;dbl&gt; | V7 &lt;dbl&gt; | V8 &lt;dbl&gt; | V9 &lt;dbl&gt; | ⋯ ⋯ | V12 &lt;dbl&gt; | V13 &lt;dbl&gt; | V14 &lt;dbl&gt; | V15 &lt;dbl&gt; | V16 &lt;dbl&gt; | V17 &lt;dbl&gt; | V18 &lt;dbl&gt; | V19 &lt;dbl&gt; | V20 &lt;dbl&gt; | target &lt;chr&gt; |\n",
       "|---|---|---|---|---|---|---|---|---|---|---|---|---|---|---|---|---|---|---|---|---|---|\n",
       "| 1 | 836 |     1.143459 |  2.0407125 |  2.0407125 | 12 | \"1.25658493843886\"  |  1.6489505 |  1.7200440 |  3.37178138 |  0.9247758 | ⋯ | -0.04690121 |  0.01689938 | 0.48151973 | -1.2154741 |  0.08328904 |  0.3222243 |  0.4665605 |  0.8078467 | -0.6515033 | C |\n",
       "| 2 | 679 |   677.290139 |  1.9245715 |  1.9245715 | 12 | \"1.03950148489844\"  |  1.4092986 |  0.5404104 |  3.29302737 |  1.2340239 | ⋯ | -0.02732321 |  0.49278780 | 0.66601187 | -1.4331175 | -1.17671254 |  1.1687702 |  0.8554406 | -0.9584706 |  0.6980888 | C |\n",
       "| 3 | 129 |  -211.444696 |  0.0673895 |  0.0673895 | 12 | \"0.969360903724275\" |  1.3210081 |  1.0821632 |  0.93140315 |  1.0437145 | ⋯ | -0.53885947 | -1.49474026 | 1.08076635 | -0.7142028 |  0.71756283 | -1.3530586 |  1.3642579 |  0.8488479 | -0.1685633 | B |\n",
       "| 4 | 930 | -1614.495099 | -1.2695371 | -1.2695371 | 12 | \"-1.44714177892836\" | -1.1573636 | -1.2598247 | -1.81721030 | -1.8331575 | ⋯ | -1.10139013 |  0.77209203 | 0.04184372 |  0.2557867 |  1.59295319 |  1.2959807 |  0.5438155 | -0.9782200 | -0.2554242 | A |\n",
       "| 5 | 509 |   593.617220 | -0.8084618 | -0.8084618 | 12 | \"0.403527646302114\" |  0.0820589 | -0.3956185 |  0.05903553 | -1.3823648 | ⋯ |  0.19354402 | -1.12166885 | 0.02002768 | -0.9865844 | -0.00265581 | -1.4021331 | -0.7746178 | -0.4196050 |  1.3054071 | A |\n",
       "\n"
      ],
      "text/plain": [
       "  ID  V1           V2         V3         V4 V5                  V6        \n",
       "1 836     1.143459  2.0407125  2.0407125 12 \"1.25658493843886\"   1.6489505\n",
       "2 679   677.290139  1.9245715  1.9245715 12 \"1.03950148489844\"   1.4092986\n",
       "3 129  -211.444696  0.0673895  0.0673895 12 \"0.969360903724275\"  1.3210081\n",
       "4 930 -1614.495099 -1.2695371 -1.2695371 12 \"-1.44714177892836\" -1.1573636\n",
       "5 509   593.617220 -0.8084618 -0.8084618 12 \"0.403527646302114\"  0.0820589\n",
       "  V7         V8          V9         ⋯ V12         V13         V14       \n",
       "1  1.7200440  3.37178138  0.9247758 ⋯ -0.04690121  0.01689938 0.48151973\n",
       "2  0.5404104  3.29302737  1.2340239 ⋯ -0.02732321  0.49278780 0.66601187\n",
       "3  1.0821632  0.93140315  1.0437145 ⋯ -0.53885947 -1.49474026 1.08076635\n",
       "4 -1.2598247 -1.81721030 -1.8331575 ⋯ -1.10139013  0.77209203 0.04184372\n",
       "5 -0.3956185  0.05903553 -1.3823648 ⋯  0.19354402 -1.12166885 0.02002768\n",
       "  V15        V16         V17        V18        V19        V20        target\n",
       "1 -1.2154741  0.08328904  0.3222243  0.4665605  0.8078467 -0.6515033 C     \n",
       "2 -1.4331175 -1.17671254  1.1687702  0.8554406 -0.9584706  0.6980888 C     \n",
       "3 -0.7142028  0.71756283 -1.3530586  1.3642579  0.8488479 -0.1685633 B     \n",
       "4  0.2557867  1.59295319  1.2959807  0.5438155 -0.9782200 -0.2554242 A     \n",
       "5 -0.9865844 -0.00265581 -1.4021331 -0.7746178 -0.4196050  1.3054071 A     "
      ]
     },
     "metadata": {},
     "output_type": "display_data"
    }
   ],
   "source": [
    "# Observe the first 5 instances\n",
    "head(df, 5)"
   ]
  },
  {
   "cell_type": "code",
   "execution_count": 5,
   "id": "842fede8",
   "metadata": {
    "execution": {
     "iopub.execute_input": "2025-06-25T04:55:23.184299Z",
     "iopub.status.busy": "2025-06-25T04:55:23.182697Z",
     "iopub.status.idle": "2025-06-25T04:55:23.211055Z",
     "shell.execute_reply": "2025-06-25T04:55:23.209252Z"
    },
    "papermill": {
     "duration": 0.042826,
     "end_time": "2025-06-25T04:55:23.213515",
     "exception": false,
     "start_time": "2025-06-25T04:55:23.170689",
     "status": "completed"
    },
    "tags": []
   },
   "outputs": [
    {
     "data": {
      "text/plain": [
       "       ID              V1                V2                V3         \n",
       " Min.   :  1.0   Min.   :-3666.8   Min.   :-3.8407   Min.   :-3.8407  \n",
       " 1st Qu.:260.8   1st Qu.: -904.8   1st Qu.:-0.7011   1st Qu.:-0.7011  \n",
       " Median :505.0   Median :  140.2   Median : 0.1989   Median : 0.1989  \n",
       " Mean   :503.3   Mean   :  123.7   Mean   : 0.1649   Mean   : 0.1649  \n",
       " 3rd Qu.:751.2   3rd Qu.: 1117.3   3rd Qu.: 1.0581   3rd Qu.: 1.0581  \n",
       " Max.   :999.0   Max.   : 3912.0   Max.   : 3.3089   Max.   : 3.3089  \n",
       "       V4          V5                  V6                V7         \n",
       " Min.   :12   Length:800         Min.   :-3.1912   Min.   :-3.3967  \n",
       " 1st Qu.:12   Class :character   1st Qu.:-0.6777   1st Qu.:-0.7673  \n",
       " Median :12   Mode  :character   Median : 0.2444   Median : 0.1780  \n",
       " Mean   :12                      Mean   : 0.2055   Mean   : 0.1505  \n",
       " 3rd Qu.:12                      3rd Qu.: 1.1326   3rd Qu.: 1.0551  \n",
       " Max.   :12                      Max.   : 4.1188   Max.   : 4.2707  \n",
       "       V8                V9               V10               V11          \n",
       " Min.   :-4.4335   Min.   :-3.7299   Min.   :-4.0086   Min.   :-3.51528  \n",
       " 1st Qu.:-0.8001   1st Qu.:-0.7587   1st Qu.:-0.7465   1st Qu.:-0.66273  \n",
       " Median : 0.1175   Median : 0.2744   Median : 0.1475   Median :-0.05155  \n",
       " Mean   : 0.1475   Mean   : 0.1991   Mean   : 0.1312   Mean   :-0.04793  \n",
       " 3rd Qu.: 1.0911   3rd Qu.: 1.2365   3rd Qu.: 1.1162   3rd Qu.: 0.63952  \n",
       " Max.   : 3.3718   Max.   : 3.7843   Max.   : 4.4768   Max.   : 2.60809  \n",
       "      V12                 V13                 V14                V15          \n",
       " Min.   :-2.906240   Min.   :-2.982476   Min.   :-3.15896   Min.   :-3.15691  \n",
       " 1st Qu.:-0.686164   1st Qu.:-0.639939   1st Qu.:-0.63533   1st Qu.:-0.62195  \n",
       " Median :-0.019679   Median :-0.021426   Median : 0.04232   Median : 0.09563  \n",
       " Mean   : 0.002026   Mean   :-0.001273   Mean   : 0.03013   Mean   : 0.05148  \n",
       " 3rd Qu.: 0.687564   3rd Qu.: 0.633318   3rd Qu.: 0.68472   3rd Qu.: 0.74856  \n",
       " Max.   : 3.185444   Max.   : 3.021938   Max.   : 3.33936   Max.   : 2.94657  \n",
       "      V16                V17                 V18                 V19           \n",
       " Min.   :-2.86112   Min.   :-3.290980   Min.   : -2.64046   Min.   :-922.4352  \n",
       " 1st Qu.:-0.73563   1st Qu.:-0.633545   1st Qu.: -0.74123   1st Qu.:  -0.6876  \n",
       " Median :-0.01488   Median : 0.019590   Median : -0.03179   Median :  -0.0391  \n",
       " Mean   :-0.03331   Mean   : 0.002017   Mean   :  0.10160   Mean   :  -1.1706  \n",
       " 3rd Qu.: 0.69196   3rd Qu.: 0.634989   3rd Qu.:  0.63050   3rd Qu.:   0.6485  \n",
       " Max.   : 2.86910   Max.   : 3.201827   Max.   :114.98184   Max.   :   3.2491  \n",
       "      V20                target         \n",
       " Min.   :-1057.3634   Length:800        \n",
       " 1st Qu.:   -0.6361   Class :character  \n",
       " Median :    0.0316   Mode  :character  \n",
       " Mean   :   -1.3127                     \n",
       " 3rd Qu.:    0.6703                     \n",
       " Max.   :    3.5250                     "
      ]
     },
     "metadata": {},
     "output_type": "display_data"
    }
   ],
   "source": [
    "# 5-numbers summary of all the numerical columns\n",
    "summary(df)"
   ]
  },
  {
   "cell_type": "markdown",
   "id": "4d37355f",
   "metadata": {
    "papermill": {
     "duration": 0.009753,
     "end_time": "2025-06-25T04:55:23.233296",
     "exception": false,
     "start_time": "2025-06-25T04:55:23.223543",
     "status": "completed"
    },
    "tags": []
   },
   "source": [
    "`is.na()` function returns TRUE if it finds na values. By passing it to the `sum()` function, we calculate the number of na values in our dataset."
   ]
  },
  {
   "cell_type": "code",
   "execution_count": 6,
   "id": "535acc23",
   "metadata": {
    "execution": {
     "iopub.execute_input": "2025-06-25T04:55:23.256637Z",
     "iopub.status.busy": "2025-06-25T04:55:23.254837Z",
     "iopub.status.idle": "2025-06-25T04:55:23.272798Z",
     "shell.execute_reply": "2025-06-25T04:55:23.270690Z"
    },
    "papermill": {
     "duration": 0.03222,
     "end_time": "2025-06-25T04:55:23.275237",
     "exception": false,
     "start_time": "2025-06-25T04:55:23.243017",
     "status": "completed"
    },
    "tags": []
   },
   "outputs": [
    {
     "name": "stdout",
     "output_type": "stream",
     "text": [
      "The dataset has 0 NA values.\n"
     ]
    }
   ],
   "source": [
    "cat(\"The dataset has\", sum(is.na(df)), \"NA values.\\n\")"
   ]
  },
  {
   "cell_type": "markdown",
   "id": "85db8b71",
   "metadata": {
    "papermill": {
     "duration": 0.010344,
     "end_time": "2025-06-25T04:55:23.295469",
     "exception": false,
     "start_time": "2025-06-25T04:55:23.285125",
     "status": "completed"
    },
    "tags": []
   },
   "source": [
    "### 3.1 Convert V5 to numeric\n",
    "\n",
    "The `gsub()` or the Global Substitution function, replaces all matches of a pattern in a string (vectorized over input)."
   ]
  },
  {
   "cell_type": "code",
   "execution_count": 7,
   "id": "2e044999",
   "metadata": {
    "execution": {
     "iopub.execute_input": "2025-06-25T04:55:23.320655Z",
     "iopub.status.busy": "2025-06-25T04:55:23.318868Z",
     "iopub.status.idle": "2025-06-25T04:55:23.334164Z",
     "shell.execute_reply": "2025-06-25T04:55:23.332332Z"
    },
    "papermill": {
     "duration": 0.030898,
     "end_time": "2025-06-25T04:55:23.337531",
     "exception": false,
     "start_time": "2025-06-25T04:55:23.306633",
     "status": "completed"
    },
    "tags": []
   },
   "outputs": [],
   "source": [
    "df$V5 <- as.numeric(gsub('\"', '', df$V5))"
   ]
  },
  {
   "cell_type": "markdown",
   "id": "4689576f",
   "metadata": {
    "papermill": {
     "duration": 0.009996,
     "end_time": "2025-06-25T04:55:23.357424",
     "exception": false,
     "start_time": "2025-06-25T04:55:23.347428",
     "status": "completed"
    },
    "tags": []
   },
   "source": [
    "### 3.2 Drop V4 due to zero variance\n",
    "\n",
    "A zero variance column contain the same value for all rows and it does not help us."
   ]
  },
  {
   "cell_type": "code",
   "execution_count": 8,
   "id": "851d9f3c",
   "metadata": {
    "execution": {
     "iopub.execute_input": "2025-06-25T04:55:23.380846Z",
     "iopub.status.busy": "2025-06-25T04:55:23.379182Z",
     "iopub.status.idle": "2025-06-25T04:55:23.394618Z",
     "shell.execute_reply": "2025-06-25T04:55:23.392805Z"
    },
    "papermill": {
     "duration": 0.029833,
     "end_time": "2025-06-25T04:55:23.397196",
     "exception": false,
     "start_time": "2025-06-25T04:55:23.367363",
     "status": "completed"
    },
    "tags": []
   },
   "outputs": [],
   "source": [
    "df <- subset(df, select = -V4)"
   ]
  },
  {
   "cell_type": "markdown",
   "id": "5b43a012",
   "metadata": {
    "papermill": {
     "duration": 0.009886,
     "end_time": "2025-06-25T04:55:23.417010",
     "exception": false,
     "start_time": "2025-06-25T04:55:23.407124",
     "status": "completed"
    },
    "tags": []
   },
   "source": [
    "### 3.3 Check for correlation and remove highly correlated ones\n",
    "\n",
    "First we compute the correlation matrix using `cor()` function. Then using `corrplot.mixed()` functinon we plot it with AOE (Angles ordered by eigenvectors)."
   ]
  },
  {
   "cell_type": "code",
   "execution_count": 9,
   "id": "0565ddce",
   "metadata": {
    "execution": {
     "iopub.execute_input": "2025-06-25T04:55:23.440735Z",
     "iopub.status.busy": "2025-06-25T04:55:23.439136Z",
     "iopub.status.idle": "2025-06-25T04:55:24.008476Z",
     "shell.execute_reply": "2025-06-25T04:55:24.005637Z"
    },
    "papermill": {
     "duration": 0.586765,
     "end_time": "2025-06-25T04:55:24.013948",
     "exception": false,
     "start_time": "2025-06-25T04:55:23.427183",
     "status": "completed"
    },
    "tags": []
   },
   "outputs": [
    {
     "data": {
      "image/png": "[encoded data removed]"
     },
     "metadata": {
      "image/png": {
       "height": 600,
       "width": 600
      }
     },
     "output_type": "display_data"
    }
   ],
   "source": [
    "options(repr.plot.width = 10, repr.plot.height = 10)\n",
    "cor_matrix <- cor(df[, 1:20])\n",
    "corrplot.mixed(cor_matrix, order = 'AOE')"
   ]
  },
  {
   "cell_type": "markdown",
   "id": "39ce125d",
   "metadata": {
    "papermill": {
     "duration": 0.013724,
     "end_time": "2025-06-25T04:55:24.042660",
     "exception": false,
     "start_time": "2025-06-25T04:55:24.028936",
     "status": "completed"
    },
    "tags": []
   },
   "source": [
    "Then we set a cutoff point and identify variables with correlation > 0.9. Finally we simply drop the redundant columns. "
   ]
  },
  {
   "cell_type": "code",
   "execution_count": 10,
   "id": "a6108334",
   "metadata": {
    "execution": {
     "iopub.execute_input": "2025-06-25T04:55:24.074219Z",
     "iopub.status.busy": "2025-06-25T04:55:24.072679Z",
     "iopub.status.idle": "2025-06-25T04:55:24.094830Z",
     "shell.execute_reply": "2025-06-25T04:55:24.092041Z"
    },
    "papermill": {
     "duration": 0.041871,
     "end_time": "2025-06-25T04:55:24.098212",
     "exception": false,
     "start_time": "2025-06-25T04:55:24.056341",
     "status": "completed"
    },
    "tags": []
   },
   "outputs": [
    {
     "name": "stdout",
     "output_type": "stream",
     "text": [
      "Removing correlated variables: V2 \n"
     ]
    }
   ],
   "source": [
    "correlated_idx <- findCorrelation(cor_matrix, cutoff = 0.9)\n",
    "\n",
    "if (length(correlated_idx) > 0) {\n",
    "  cat(\"Removing correlated variables:\", colnames(cor_matrix)[correlated_idx], \"\\n\")\n",
    "  df <- df[, -correlated_idx]\n",
    "}"
   ]
  },
  {
   "cell_type": "markdown",
   "id": "c74ee466",
   "metadata": {
    "papermill": {
     "duration": 0.014686,
     "end_time": "2025-06-25T04:55:24.127157",
     "exception": false,
     "start_time": "2025-06-25T04:55:24.112471",
     "status": "completed"
    },
    "tags": []
   },
   "source": [
    "## 4. Train-test split\n",
    "\n",
    "Using the `caret` package, we split our data into train and test set. We randomly group 80% as train and 20% as test."
   ]
  },
  {
   "cell_type": "code",
   "execution_count": 11,
   "id": "9ed66945",
   "metadata": {
    "execution": {
     "iopub.execute_input": "2025-06-25T04:55:24.158469Z",
     "iopub.status.busy": "2025-06-25T04:55:24.156906Z",
     "iopub.status.idle": "2025-06-25T04:55:24.182807Z",
     "shell.execute_reply": "2025-06-25T04:55:24.180948Z"
    },
    "papermill": {
     "duration": 0.045023,
     "end_time": "2025-06-25T04:55:24.185992",
     "exception": false,
     "start_time": "2025-06-25T04:55:24.140969",
     "status": "completed"
    },
    "tags": []
   },
   "outputs": [],
   "source": [
    "set.seed(42)\n",
    "train_idx <- createDataPartition(df$target, p = 0.80, list = FALSE)\n",
    "train <- df[train_idx, ]\n",
    "test  <- df[-train_idx, ]"
   ]
  },
  {
   "cell_type": "markdown",
   "id": "04b70bc0",
   "metadata": {
    "papermill": {
     "duration": 0.013741,
     "end_time": "2025-06-25T04:55:24.213600",
     "exception": false,
     "start_time": "2025-06-25T04:55:24.199859",
     "status": "completed"
    },
    "tags": []
   },
   "source": [
    "## 5. Prepare the data\n",
    "\n",
    "Then we select features and targets for model training and testing."
   ]
  },
  {
   "cell_type": "code",
   "execution_count": 12,
   "id": "50eb1d82",
   "metadata": {
    "execution": {
     "iopub.execute_input": "2025-06-25T04:55:24.280988Z",
     "iopub.status.busy": "2025-06-25T04:55:24.279350Z",
     "iopub.status.idle": "2025-06-25T04:55:24.299727Z",
     "shell.execute_reply": "2025-06-25T04:55:24.297918Z"
    },
    "papermill": {
     "duration": 0.075483,
     "end_time": "2025-06-25T04:55:24.302990",
     "exception": false,
     "start_time": "2025-06-25T04:55:24.227507",
     "status": "completed"
    },
    "tags": []
   },
   "outputs": [],
   "source": [
    "x_train <- train[, 2:19]\n",
    "y_train <- as.factor(train$target)\n",
    "\n",
    "x_test  <- test[, 2:19]\n",
    "y_test  <- as.factor(test$target)"
   ]
  },
  {
   "cell_type": "markdown",
   "id": "0752b2a9",
   "metadata": {
    "papermill": {
     "duration": 0.014701,
     "end_time": "2025-06-25T04:55:24.331911",
     "exception": false,
     "start_time": "2025-06-25T04:55:24.317210",
     "status": "completed"
    },
    "tags": []
   },
   "source": [
    "## 6. Perform Classification Algorithms"
   ]
  },
  {
   "attachments": {
    "487a3384-359f-4608-a823-55d6b43a85e1.png": {
     "image/png": "[encoded data removed]"
    }
   },
   "cell_type": "markdown",
   "id": "9dddfd00",
   "metadata": {
    "papermill": {
     "duration": 0.014347,
     "end_time": "2025-06-25T04:55:24.360303",
     "exception": false,
     "start_time": "2025-06-25T04:55:24.345956",
     "status": "completed"
    },
    "tags": []
   },
   "source": [
    "To perform the models, first I use the repeated cross validation to reduce the variability from a single CV run by averaging results across repeats. This helps us have more stable performance estimates.\n",
    "\n",
    "![Repeated-K-Fold-Cross-Validation-A-repeated-10-fold-CV-was-applied-The-10-fold-CV-works.png](attachment:487a3384-359f-4608-a823-55d6b43a85e1.png)\n",
    "\n",
    "`classProbs = TRUE` enables metrics like AUC for classification.\n",
    "\n",
    "`SavePredictions = \"final\"` saves predictions on held-out folds for detailed analysis.\n"
   ]
  },
  {
   "cell_type": "code",
   "execution_count": 13,
   "id": "dc736cd9",
   "metadata": {
    "execution": {
     "iopub.execute_input": "2025-06-25T04:55:24.391795Z",
     "iopub.status.busy": "2025-06-25T04:55:24.390198Z",
     "iopub.status.idle": "2025-06-25T04:55:24.407244Z",
     "shell.execute_reply": "2025-06-25T04:55:24.405487Z"
    },
    "papermill": {
     "duration": 0.036451,
     "end_time": "2025-06-25T04:55:24.410512",
     "exception": false,
     "start_time": "2025-06-25T04:55:24.374061",
     "status": "completed"
    },
    "tags": []
   },
   "outputs": [],
   "source": [
    "set.seed(42)\n",
    "ctrl <- trainControl(\n",
    "  method = \"repeatedcv\", \n",
    "  number = 5, # 5 folds per CV\n",
    "  repeats = 3, # Repeat CV 3 times\n",
    "  classProbs = TRUE, # Compute class probabilities for classification\n",
    "  savePredictions = \"final\" # Save final hold-out predictions for model evaluation\n",
    ")"
   ]
  },
  {
   "cell_type": "markdown",
   "id": "cb485b5a",
   "metadata": {
    "papermill": {
     "duration": 0.014147,
     "end_time": "2025-06-25T04:55:24.439160",
     "exception": false,
     "start_time": "2025-06-25T04:55:24.425013",
     "status": "completed"
    },
    "tags": []
   },
   "source": [
    "### 6.1 Multinomial Logistic Regression\n",
    "\n",
    "Used for classification when the **target has more than two classes**. It models the **log-odds** of each class relative to a reference class.\n",
    "\n",
    "$$\n",
    "\\log\\left(\\frac{P(Y = k)}{P(Y = K)}\\right) = \\beta_{k0} + \\beta_{k1}x_1 + \\beta_{k2}x_2 + \\cdots + \\beta_{kp}x_p\n",
    "$$\n",
    "\n",
    "- $Y$: target variable with $K$ classes  \n",
    "- $ x_1, \\dots, x_p$: input features  \n",
    "- $K$: reference class  \n",
    "- Each class $K$ has its\n"
   ]
  },
  {
   "cell_type": "code",
   "execution_count": 14,
   "id": "b22699ac",
   "metadata": {
    "execution": {
     "iopub.execute_input": "2025-06-25T04:55:24.472245Z",
     "iopub.status.busy": "2025-06-25T04:55:24.470557Z",
     "iopub.status.idle": "2025-06-25T04:55:27.011231Z",
     "shell.execute_reply": "2025-06-25T04:55:27.009246Z"
    },
    "papermill": {
     "duration": 2.561242,
     "end_time": "2025-06-25T04:55:27.014657",
     "exception": false,
     "start_time": "2025-06-25T04:55:24.453415",
     "status": "completed"
    },
    "tags": []
   },
   "outputs": [],
   "source": [
    "model_log <- train(x = x_train,\n",
    "                   y = y_train,\n",
    "                   method = \"multinom\",\n",
    "                   trace = FALSE, # Suppresses training output\n",
    "                   trControl = ctrl) # Resampling setting from trainControl()"
   ]
  },
  {
   "cell_type": "markdown",
   "id": "05388ffd",
   "metadata": {
    "papermill": {
     "duration": 0.013891,
     "end_time": "2025-06-25T04:55:27.042426",
     "exception": false,
     "start_time": "2025-06-25T04:55:27.028535",
     "status": "completed"
    },
    "tags": []
   },
   "source": [
    "### 6.2 Linear Discriminant Analysis\n",
    "\n",
    "LDA is a classification method that projects data onto a lower-dimensional space to **maximize class separation**. It assumes classes are normally distributed with **equal covariance**.\n",
    "\n",
    "$$\n",
    "\\delta_k(x) = x^\\top \\Sigma^{-1} \\mu_k - \\frac{1}{2} \\mu_k^\\top \\Sigma^{-1} \\mu_k + \\log(\\pi_k)\n",
    "$$\n",
    "\n",
    "Where:\n",
    "- $\\mu_k$: mean vector of class $k$  \n",
    "- $\\Sigma$: shared covariance matrix  \n",
    "- $\\pi_k$: prior probability of class $k$  \n",
    "- $x$: input feature vector  \n",
    "\n",
    "The predicted class is the one with the **highest** $\\delta_k(x)$."
   ]
  },
  {
   "cell_type": "code",
   "execution_count": 15,
   "id": "651f0c7d",
   "metadata": {
    "execution": {
     "iopub.execute_input": "2025-06-25T04:55:27.073911Z",
     "iopub.status.busy": "2025-06-25T04:55:27.072310Z",
     "iopub.status.idle": "2025-06-25T04:55:27.702984Z",
     "shell.execute_reply": "2025-06-25T04:55:27.698801Z"
    },
    "papermill": {
     "duration": 0.653151,
     "end_time": "2025-06-25T04:55:27.709288",
     "exception": false,
     "start_time": "2025-06-25T04:55:27.056137",
     "status": "completed"
    },
    "tags": []
   },
   "outputs": [],
   "source": [
    "model_lda <- train(x = x_train, y = y_train, method = \"lda\", trControl = ctrl)"
   ]
  },
  {
   "cell_type": "markdown",
   "id": "b4f07445",
   "metadata": {
    "papermill": {
     "duration": 0.036205,
     "end_time": "2025-06-25T04:55:27.781703",
     "exception": false,
     "start_time": "2025-06-25T04:55:27.745498",
     "status": "completed"
    },
    "tags": []
   },
   "source": [
    "### 6.3 Quadratic Discriminant Analysis\n",
    "QDA is a classification method similar to LDA, but **allows each class to have its own covariance matrix**. This results in **non-linear (quadratic) decision boundaries**.\n",
    "\n",
    "$$\n",
    "\\delta_k(x) = -\\frac{1}{2} \\log|\\Sigma_k| - \\frac{1}{2}(x - \\mu_k)^\\top \\Sigma_k^{-1}(x - \\mu_k) + \\log(\\pi_k)\n",
    "$$\n",
    "\n",
    "Where:\n",
    "- $\\mu_k$: mean vector of class $k$  \n",
    "- $\\Sigma_k$: covariance matrix of class $k$  \n",
    "- $\\pi_k$: prior probability of class $k$  \n",
    "- $x$: input feature vector  \n",
    "\n",
    "The predicted class is the one with the **highest** $\\delta_k(x)$."
   ]
  },
  {
   "cell_type": "code",
   "execution_count": 16,
   "id": "71b77087",
   "metadata": {
    "execution": {
     "iopub.execute_input": "2025-06-25T04:55:27.829079Z",
     "iopub.status.busy": "2025-06-25T04:55:27.827528Z",
     "iopub.status.idle": "2025-06-25T04:55:28.171643Z",
     "shell.execute_reply": "2025-06-25T04:55:28.169746Z"
    },
    "papermill": {
     "duration": 0.362853,
     "end_time": "2025-06-25T04:55:28.174308",
     "exception": false,
     "start_time": "2025-06-25T04:55:27.811455",
     "status": "completed"
    },
    "tags": []
   },
   "outputs": [],
   "source": [
    "model_qda <- train(x = x_train, y = y_train, method = \"qda\", trControl = ctrl)"
   ]
  },
  {
   "cell_type": "markdown",
   "id": "1f5f0fd9",
   "metadata": {
    "papermill": {
     "duration": 0.014294,
     "end_time": "2025-06-25T04:55:28.202859",
     "exception": false,
     "start_time": "2025-06-25T04:55:28.188565",
     "status": "completed"
    },
    "tags": []
   },
   "source": [
    "### 6.4 Naive Bayes\n",
    "\n",
    "Naive Bayes is a **probabilistic classifier** based on Bayes' Theorem with the **assumption of feature independence** given the class. It's fast and works well with high-dimensional data.\n",
    "\n",
    "$$\n",
    "\\hat{y} = \\arg\\max_k \\; P(Y = k) \\prod_{j=1}^{p} P(x_j \\mid Y = k)\n",
    "$$\n",
    "\n",
    "Where:\n",
    "- $Y$: class variable  \n",
    "- $x_j$: value of feature $j$  \n",
    "- $p$: number of features  \n",
    "- $P(Y = k)$: prior probability of class $k$  \n",
    "- $P(x_j \\mid Y = k)$: likelihood of feature $j$ given class $k$  \n",
    "\n",
    "The class with the highest posterior probability is predicted."
   ]
  },
  {
   "cell_type": "code",
   "execution_count": 17,
   "id": "9445481d",
   "metadata": {
    "execution": {
     "iopub.execute_input": "2025-06-25T04:55:28.235264Z",
     "iopub.status.busy": "2025-06-25T04:55:28.233683Z",
     "iopub.status.idle": "2025-06-25T04:55:40.713308Z",
     "shell.execute_reply": "2025-06-25T04:55:40.711435Z"
    },
    "papermill": {
     "duration": 12.499775,
     "end_time": "2025-06-25T04:55:40.717021",
     "exception": false,
     "start_time": "2025-06-25T04:55:28.217246",
     "status": "completed"
    },
    "tags": []
   },
   "outputs": [],
   "source": [
    "suppressWarnings({\n",
    "  model_nb <- train(x = x_train, y = y_train, method = \"nb\", trControl = ctrl)\n",
    "})\n"
   ]
  },
  {
   "cell_type": "markdown",
   "id": "60cd0dc1",
   "metadata": {
    "papermill": {
     "duration": 0.014083,
     "end_time": "2025-06-25T04:55:40.745417",
     "exception": false,
     "start_time": "2025-06-25T04:55:40.731334",
     "status": "completed"
    },
    "tags": []
   },
   "source": [
    "### 6.5 K-Nearest Neighbors (k = 5)\n",
    "\n",
    "KNN is a **non-parametric**, instance-based learning algorithm. It classifies a new point based on the **majority class among its $k$ closest neighbors** in the training data.\n",
    "\n",
    "$$\n",
    "\\hat{y} = \\arg\\max_{c} \\sum_{i \\in \\mathcal{N}_k(x)} \\mathbb{1}(y_i = c)\n",
    "$$\n",
    "\n",
    "Where:\n",
    "- $\\mathcal{N}_k(x)$: the set of $k$ nearest neighbors of input $x$  \n",
    "- $y_i$: the class label of neighbor $i$  \n",
    "- $\\mathbb{1}(\\cdot)$: indicator function (1 if true, 0 otherwise)  \n",
    "- $c$: class label  \n",
    "\n",
    "The predicted class is the one **most frequent among the neighbors**."
   ]
  },
  {
   "cell_type": "code",
   "execution_count": 18,
   "id": "e1b48499",
   "metadata": {
    "execution": {
     "iopub.execute_input": "2025-06-25T04:55:40.777093Z",
     "iopub.status.busy": "2025-06-25T04:55:40.775553Z",
     "iopub.status.idle": "2025-06-25T04:55:41.717051Z",
     "shell.execute_reply": "2025-06-25T04:55:41.715234Z"
    },
    "papermill": {
     "duration": 0.960981,
     "end_time": "2025-06-25T04:55:41.720372",
     "exception": false,
     "start_time": "2025-06-25T04:55:40.759391",
     "status": "completed"
    },
    "tags": []
   },
   "outputs": [],
   "source": [
    "model_knn <- train(x = x_train, y = y_train, method = \"knn\",\n",
    "                   tuneGrid = data.frame(k = 5), preProcess = c(\"center\", \"scale\"))"
   ]
  },
  {
   "cell_type": "markdown",
   "id": "df9f6401",
   "metadata": {
    "papermill": {
     "duration": 0.013965,
     "end_time": "2025-06-25T04:55:41.748306",
     "exception": false,
     "start_time": "2025-06-25T04:55:41.734341",
     "status": "completed"
    },
    "tags": []
   },
   "source": [
    "### 6.6 Random Forest\n",
    "\n",
    "Random Forest is an ensemble learning method that builds many **decision trees** using random subsets of data and features, then combines their predictions to improve accuracy and reduce overfitting.\n",
    "\n",
    "$$\n",
    "\\hat{y} = \\text{majority\\_vote} \\big\\{ h_1(x), h_2(x), \\dots, h_B(x) \\big\\}\n",
    "$$\n",
    "\n",
    "Where:\n",
    "- $h_b(x)$: prediction of the $b$-th decision tree  \n",
    "- $B$: total number of trees  \n",
    "- $\\hat{y}$: final predicted class via majority vote  \n",
    "\n",
    "Each tree is trained on a bootstrap sample and considers a random subset of features at each split."
   ]
  },
  {
   "cell_type": "code",
   "execution_count": 19,
   "id": "fa8b5183",
   "metadata": {
    "execution": {
     "iopub.execute_input": "2025-06-25T04:55:41.780208Z",
     "iopub.status.busy": "2025-06-25T04:55:41.778631Z",
     "iopub.status.idle": "2025-06-25T04:55:43.409859Z",
     "shell.execute_reply": "2025-06-25T04:55:43.408022Z"
    },
    "papermill": {
     "duration": 1.650886,
     "end_time": "2025-06-25T04:55:43.413132",
     "exception": false,
     "start_time": "2025-06-25T04:55:41.762246",
     "status": "completed"
    },
    "tags": []
   },
   "outputs": [],
   "source": [
    "model_rf <- train(\n",
    "  x = x_train, y = y_train,\n",
    "  method = \"rf\",\n",
    "  tuneGrid = data.frame(mtry = floor(sqrt(ncol(x_train)))), # Number of vars tried each split\n",
    "  trControl = ctrl,  # optional tuning control\n",
    "  ntree = 100 # number of trees in forest\n",
    ")"
   ]
  },
  {
   "cell_type": "markdown",
   "id": "3f430f6c",
   "metadata": {
    "papermill": {
     "duration": 0.01375,
     "end_time": "2025-06-25T04:55:43.440907",
     "exception": false,
     "start_time": "2025-06-25T04:55:43.427157",
     "status": "completed"
    },
    "tags": []
   },
   "source": [
    "Now let's report resampling based on predictions made on the internal validation folds that the model never trianed on. These are \"out-of-sample\" predictions collected during cross-validation. This approach estimates how well the model would perform on new, unseen data, even though it does not use a separate test set."
   ]
  },
  {
   "cell_type": "code",
   "execution_count": 20,
   "id": "b4b3a400",
   "metadata": {
    "execution": {
     "iopub.execute_input": "2025-06-25T04:55:43.472438Z",
     "iopub.status.busy": "2025-06-25T04:55:43.470849Z",
     "iopub.status.idle": "2025-06-25T04:55:43.705808Z",
     "shell.execute_reply": "2025-06-25T04:55:43.703026Z"
    },
    "papermill": {
     "duration": 0.254268,
     "end_time": "2025-06-25T04:55:43.709071",
     "exception": false,
     "start_time": "2025-06-25T04:55:43.454803",
     "status": "completed"
    },
    "tags": []
   },
   "outputs": [
    {
     "data": {
      "text/plain": [
       "\n",
       "Call:\n",
       "summary.resamples(object = resamps)\n",
       "\n",
       "Models: LOG, LDA, RF \n",
       "Number of resamples: 15 \n",
       "\n",
       "Accuracy \n",
       "         Min.   1st Qu.    Median      Mean   3rd Qu.      Max. NA's\n",
       "LOG 0.7795276 0.7937863 0.8139535 0.8161749 0.8320312 0.8759690    0\n",
       "LDA 0.7559055 0.8015686 0.8217054 0.8177369 0.8398438 0.8604651    0\n",
       "RF  0.7692308 0.7859738 0.8046875 0.8131657 0.8256010 0.9218750    0\n",
       "\n",
       "Kappa \n",
       "         Min.   1st Qu.    Median      Mean   3rd Qu.      Max. NA's\n",
       "LOG 0.6695474 0.6901367 0.7210811 0.7238154 0.7474374 0.8134490    0\n",
       "LDA 0.6322623 0.7022231 0.7316875 0.7261617 0.7594958 0.7901302    0\n",
       "RF  0.6528705 0.6779121 0.7058553 0.7189221 0.7376878 0.8825904    0\n"
      ]
     },
     "metadata": {},
     "output_type": "display_data"
    },
    {
     "data": {
      "image/png": "[encoded data removed]"
     },
     "metadata": {
      "image/png": {
       "height": 600,
       "width": 600
      }
     },
     "output_type": "display_data"
    }
   ],
   "source": [
    "resamps <- resamples(list(LOG = model_log, LDA = model_lda, RF = model_rf))\n",
    "summary(resamps)\n",
    "bwplot(resamps, metric = \"Accuracy\")"
   ]
  },
  {
   "cell_type": "markdown",
   "id": "93cacc87",
   "metadata": {
    "papermill": {
     "duration": 0.014606,
     "end_time": "2025-06-25T04:55:43.738881",
     "exception": false,
     "start_time": "2025-06-25T04:55:43.724275",
     "status": "completed"
    },
    "tags": []
   },
   "source": [
    "## 7. Predict on x_test_split"
   ]
  },
  {
   "cell_type": "markdown",
   "id": "05167994",
   "metadata": {
    "papermill": {
     "duration": 0.014434,
     "end_time": "2025-06-25T04:55:43.767891",
     "exception": false,
     "start_time": "2025-06-25T04:55:43.753457",
     "status": "completed"
    },
    "tags": []
   },
   "source": [
    "Then we perform our models on the test sets, and store them in appropriate variables."
   ]
  },
  {
   "cell_type": "code",
   "execution_count": 21,
   "id": "673b8787",
   "metadata": {
    "execution": {
     "iopub.execute_input": "2025-06-25T04:55:43.800399Z",
     "iopub.status.busy": "2025-06-25T04:55:43.798908Z",
     "iopub.status.idle": "2025-06-25T04:55:44.179198Z",
     "shell.execute_reply": "2025-06-25T04:55:44.177439Z"
    },
    "papermill": {
     "duration": 0.400195,
     "end_time": "2025-06-25T04:55:44.182547",
     "exception": false,
     "start_time": "2025-06-25T04:55:43.782352",
     "status": "completed"
    },
    "tags": []
   },
   "outputs": [],
   "source": [
    "suppressWarnings({\n",
    "    pred_log <- predict(model_log, x_test)\n",
    "    pred_lda <- predict(model_lda, x_test)\n",
    "    pred_qda <- predict(model_qda, x_test)\n",
    "    pred_nb  <- predict(model_nb, x_test)\n",
    "    pred_knn <- predict(model_knn, x_test)\n",
    "    pred_rf  <- predict(model_rf, x_test)\n",
    "})"
   ]
  },
  {
   "cell_type": "markdown",
   "id": "2c21ac07",
   "metadata": {
    "papermill": {
     "duration": 0.014635,
     "end_time": "2025-06-25T04:55:44.211726",
     "exception": false,
     "start_time": "2025-06-25T04:55:44.197091",
     "status": "completed"
    },
    "tags": []
   },
   "source": [
    "## 8. Compare error rates using y-test"
   ]
  },
  {
   "cell_type": "code",
   "execution_count": 22,
   "id": "447e84a7",
   "metadata": {
    "execution": {
     "iopub.execute_input": "2025-06-25T04:55:44.244903Z",
     "iopub.status.busy": "2025-06-25T04:55:44.243334Z",
     "iopub.status.idle": "2025-06-25T04:55:44.266819Z",
     "shell.execute_reply": "2025-06-25T04:55:44.264973Z"
    },
    "papermill": {
     "duration": 0.04362,
     "end_time": "2025-06-25T04:55:44.270179",
     "exception": false,
     "start_time": "2025-06-25T04:55:44.226559",
     "status": "completed"
    },
    "tags": []
   },
   "outputs": [],
   "source": [
    "error_rate <- function(true, pred) {\n",
    "  mean(true != pred)\n",
    "}"
   ]
  },
  {
   "cell_type": "code",
   "execution_count": 23,
   "id": "02c4c66e",
   "metadata": {
    "execution": {
     "iopub.execute_input": "2025-06-25T04:55:44.303457Z",
     "iopub.status.busy": "2025-06-25T04:55:44.301856Z",
     "iopub.status.idle": "2025-06-25T04:55:44.331381Z",
     "shell.execute_reply": "2025-06-25T04:55:44.329017Z"
    },
    "papermill": {
     "duration": 0.049492,
     "end_time": "2025-06-25T04:55:44.334437",
     "exception": false,
     "start_time": "2025-06-25T04:55:44.284945",
     "status": "completed"
    },
    "tags": []
   },
   "outputs": [
    {
     "name": "stdout",
     "output_type": "stream",
     "text": [
      "                            Model ErrorRate\n",
      "1 Multinomial Logistic Regression 0.1265823\n",
      "2                             LDA 0.1329114\n",
      "3                             QDA 0.3417722\n",
      "4                     Naive Bayes 0.1582278\n",
      "5                            k-NN 0.2531646\n",
      "6                   Random Forest 0.1139241\n"
     ]
    }
   ],
   "source": [
    "# Build results data frame\n",
    "model_names <- c(\"Multinomial Logistic Regression\", \"LDA\", \"QDA\", \"Naive Bayes\", \"k-NN\", \"Random Forest\")\n",
    "predictions <- list(pred_log, pred_lda, pred_qda, pred_nb, pred_knn, pred_rf)\n",
    "\n",
    "results <- data.frame(\n",
    "  Model = model_names,\n",
    "  ErrorRate = sapply(predictions, function(pred) error_rate(y_test, pred))\n",
    ")\n",
    "\n",
    "print(results)"
   ]
  },
  {
   "cell_type": "markdown",
   "id": "25a4176a",
   "metadata": {
    "papermill": {
     "duration": 0.014749,
     "end_time": "2025-06-25T04:55:44.364502",
     "exception": false,
     "start_time": "2025-06-25T04:55:44.349753",
     "status": "completed"
    },
    "tags": []
   },
   "source": [
    "We can see that although LDA performed better on train data, now Random Forest is performing better on the test split data."
   ]
  },
  {
   "cell_type": "code",
   "execution_count": 24,
   "id": "c0c70688",
   "metadata": {
    "execution": {
     "iopub.execute_input": "2025-06-25T04:55:44.398324Z",
     "iopub.status.busy": "2025-06-25T04:55:44.396794Z",
     "iopub.status.idle": "2025-06-25T04:55:44.761921Z",
     "shell.execute_reply": "2025-06-25T04:55:44.759097Z"
    },
    "papermill": {
     "duration": 0.385451,
     "end_time": "2025-06-25T04:55:44.765085",
     "exception": false,
     "start_time": "2025-06-25T04:55:44.379634",
     "status": "completed"
    },
    "tags": []
   },
   "outputs": [
    {
     "data": {
      "image/png": "[encoded data removed]"
     },
     "metadata": {
      "image/png": {
       "height": 600,
       "width": 600
      }
     },
     "output_type": "display_data"
    }
   ],
   "source": [
    "ggplot(results, aes(x = reorder(Model, ErrorRate), y = ErrorRate)) +\n",
    "  geom_bar(stat = \"identity\", fill = \"red\") +\n",
    "  coord_flip() + # Flip axes\n",
    "  labs(\n",
    "    title = \"Classification Model Error Rates\",\n",
    "    x = \"Model\",\n",
    "    y = \"Error Rate\"\n",
    "  ) +\n",
    "  theme_minimal(base_size = 14)"
   ]
  },
  {
   "cell_type": "markdown",
   "id": "d90bf6b9",
   "metadata": {
    "papermill": {
     "duration": 0.016112,
     "end_time": "2025-06-25T04:55:44.797640",
     "exception": false,
     "start_time": "2025-06-25T04:55:44.781528",
     "status": "completed"
    },
    "tags": []
   },
   "source": [
    "## 9. Perform the model on the test set"
   ]
  },
  {
   "cell_type": "code",
   "execution_count": 25,
   "id": "f246772e",
   "metadata": {
    "execution": {
     "iopub.execute_input": "2025-06-25T04:55:44.832810Z",
     "iopub.status.busy": "2025-06-25T04:55:44.831112Z",
     "iopub.status.idle": "2025-06-25T04:55:44.949943Z",
     "shell.execute_reply": "2025-06-25T04:55:44.947403Z"
    },
    "papermill": {
     "duration": 0.139712,
     "end_time": "2025-06-25T04:55:44.952992",
     "exception": false,
     "start_time": "2025-06-25T04:55:44.813280",
     "status": "completed"
    },
    "tags": []
   },
   "outputs": [
    {
     "data": {
      "text/html": [
       "<table class=\"dataframe\">\n",
       "<caption>A data.frame: 200 × 4</caption>\n",
       "<thead>\n",
       "\t<tr><th scope=col>ID</th><th scope=col>LDA</th><th scope=col>RF</th><th scope=col>LOG</th></tr>\n",
       "\t<tr><th scope=col>&lt;int&gt;</th><th scope=col>&lt;fct&gt;</th><th scope=col>&lt;fct&gt;</th><th scope=col>&lt;fct&gt;</th></tr>\n",
       "</thead>\n",
       "<tbody>\n",
       "\t<tr><td> 18</td><td>C</td><td>C</td><td>C</td></tr>\n",
       "\t<tr><td> 23</td><td>A</td><td>A</td><td>A</td></tr>\n",
       "\t<tr><td> 26</td><td>C</td><td>C</td><td>C</td></tr>\n",
       "\t<tr><td> 32</td><td>A</td><td>A</td><td>A</td></tr>\n",
       "\t<tr><td> 38</td><td>B</td><td>C</td><td>B</td></tr>\n",
       "\t<tr><td> 46</td><td>A</td><td>A</td><td>A</td></tr>\n",
       "\t<tr><td> 47</td><td>C</td><td>C</td><td>C</td></tr>\n",
       "\t<tr><td> 50</td><td>B</td><td>B</td><td>B</td></tr>\n",
       "\t<tr><td> 53</td><td>B</td><td>B</td><td>B</td></tr>\n",
       "\t<tr><td> 57</td><td>B</td><td>B</td><td>B</td></tr>\n",
       "\t<tr><td> 63</td><td>C</td><td>C</td><td>C</td></tr>\n",
       "\t<tr><td> 64</td><td>C</td><td>C</td><td>C</td></tr>\n",
       "\t<tr><td> 68</td><td>C</td><td>C</td><td>C</td></tr>\n",
       "\t<tr><td> 74</td><td>C</td><td>C</td><td>C</td></tr>\n",
       "\t<tr><td> 75</td><td>B</td><td>B</td><td>B</td></tr>\n",
       "\t<tr><td> 78</td><td>A</td><td>A</td><td>A</td></tr>\n",
       "\t<tr><td> 88</td><td>C</td><td>B</td><td>C</td></tr>\n",
       "\t<tr><td> 90</td><td>C</td><td>C</td><td>C</td></tr>\n",
       "\t<tr><td> 95</td><td>B</td><td>B</td><td>B</td></tr>\n",
       "\t<tr><td> 96</td><td>B</td><td>B</td><td>B</td></tr>\n",
       "\t<tr><td> 98</td><td>B</td><td>B</td><td>B</td></tr>\n",
       "\t<tr><td>106</td><td>B</td><td>B</td><td>B</td></tr>\n",
       "\t<tr><td>107</td><td>C</td><td>C</td><td>C</td></tr>\n",
       "\t<tr><td>114</td><td>A</td><td>A</td><td>A</td></tr>\n",
       "\t<tr><td>120</td><td>C</td><td>C</td><td>C</td></tr>\n",
       "\t<tr><td>131</td><td>C</td><td>C</td><td>C</td></tr>\n",
       "\t<tr><td>136</td><td>B</td><td>B</td><td>B</td></tr>\n",
       "\t<tr><td>142</td><td>A</td><td>A</td><td>A</td></tr>\n",
       "\t<tr><td>147</td><td>C</td><td>C</td><td>C</td></tr>\n",
       "\t<tr><td>151</td><td>A</td><td>A</td><td>A</td></tr>\n",
       "\t<tr><td>⋮</td><td>⋮</td><td>⋮</td><td>⋮</td></tr>\n",
       "\t<tr><td> 840</td><td>C</td><td>C</td><td>C</td></tr>\n",
       "\t<tr><td> 850</td><td>B</td><td>B</td><td>B</td></tr>\n",
       "\t<tr><td> 861</td><td>A</td><td>A</td><td>A</td></tr>\n",
       "\t<tr><td> 864</td><td>B</td><td>B</td><td>B</td></tr>\n",
       "\t<tr><td> 866</td><td>B</td><td>B</td><td>B</td></tr>\n",
       "\t<tr><td> 875</td><td>C</td><td>C</td><td>C</td></tr>\n",
       "\t<tr><td> 877</td><td>A</td><td>A</td><td>A</td></tr>\n",
       "\t<tr><td> 881</td><td>C</td><td>C</td><td>C</td></tr>\n",
       "\t<tr><td> 886</td><td>A</td><td>A</td><td>A</td></tr>\n",
       "\t<tr><td> 888</td><td>B</td><td>B</td><td>B</td></tr>\n",
       "\t<tr><td> 890</td><td>A</td><td>A</td><td>A</td></tr>\n",
       "\t<tr><td> 893</td><td>C</td><td>C</td><td>C</td></tr>\n",
       "\t<tr><td> 897</td><td>B</td><td>B</td><td>B</td></tr>\n",
       "\t<tr><td> 899</td><td>B</td><td>C</td><td>B</td></tr>\n",
       "\t<tr><td> 903</td><td>A</td><td>A</td><td>A</td></tr>\n",
       "\t<tr><td> 914</td><td>C</td><td>B</td><td>C</td></tr>\n",
       "\t<tr><td> 915</td><td>B</td><td>C</td><td>C</td></tr>\n",
       "\t<tr><td> 927</td><td>C</td><td>C</td><td>C</td></tr>\n",
       "\t<tr><td> 933</td><td>A</td><td>A</td><td>A</td></tr>\n",
       "\t<tr><td> 944</td><td>A</td><td>A</td><td>A</td></tr>\n",
       "\t<tr><td> 945</td><td>C</td><td>C</td><td>C</td></tr>\n",
       "\t<tr><td> 949</td><td>C</td><td>C</td><td>C</td></tr>\n",
       "\t<tr><td> 953</td><td>A</td><td>A</td><td>A</td></tr>\n",
       "\t<tr><td> 967</td><td>B</td><td>B</td><td>C</td></tr>\n",
       "\t<tr><td> 970</td><td>B</td><td>B</td><td>B</td></tr>\n",
       "\t<tr><td> 979</td><td>C</td><td>B</td><td>C</td></tr>\n",
       "\t<tr><td> 991</td><td>B</td><td>B</td><td>B</td></tr>\n",
       "\t<tr><td> 996</td><td>C</td><td>C</td><td>C</td></tr>\n",
       "\t<tr><td> 997</td><td>C</td><td>C</td><td>C</td></tr>\n",
       "\t<tr><td>1000</td><td>B</td><td>B</td><td>B</td></tr>\n",
       "</tbody>\n",
       "</table>\n"
      ],
      "text/latex": [
       "A data.frame: 200 × 4\n",
       "\\begin{tabular}{llll}\n",
       " ID & LDA & RF & LOG\\\\\n",
       " <int> & <fct> & <fct> & <fct>\\\\\n",
       "\\hline\n",
       "\t  18 & C & C & C\\\\\n",
       "\t  23 & A & A & A\\\\\n",
       "\t  26 & C & C & C\\\\\n",
       "\t  32 & A & A & A\\\\\n",
       "\t  38 & B & C & B\\\\\n",
       "\t  46 & A & A & A\\\\\n",
       "\t  47 & C & C & C\\\\\n",
       "\t  50 & B & B & B\\\\\n",
       "\t  53 & B & B & B\\\\\n",
       "\t  57 & B & B & B\\\\\n",
       "\t  63 & C & C & C\\\\\n",
       "\t  64 & C & C & C\\\\\n",
       "\t  68 & C & C & C\\\\\n",
       "\t  74 & C & C & C\\\\\n",
       "\t  75 & B & B & B\\\\\n",
       "\t  78 & A & A & A\\\\\n",
       "\t  88 & C & B & C\\\\\n",
       "\t  90 & C & C & C\\\\\n",
       "\t  95 & B & B & B\\\\\n",
       "\t  96 & B & B & B\\\\\n",
       "\t  98 & B & B & B\\\\\n",
       "\t 106 & B & B & B\\\\\n",
       "\t 107 & C & C & C\\\\\n",
       "\t 114 & A & A & A\\\\\n",
       "\t 120 & C & C & C\\\\\n",
       "\t 131 & C & C & C\\\\\n",
       "\t 136 & B & B & B\\\\\n",
       "\t 142 & A & A & A\\\\\n",
       "\t 147 & C & C & C\\\\\n",
       "\t 151 & A & A & A\\\\\n",
       "\t ⋮ & ⋮ & ⋮ & ⋮\\\\\n",
       "\t  840 & C & C & C\\\\\n",
       "\t  850 & B & B & B\\\\\n",
       "\t  861 & A & A & A\\\\\n",
       "\t  864 & B & B & B\\\\\n",
       "\t  866 & B & B & B\\\\\n",
       "\t  875 & C & C & C\\\\\n",
       "\t  877 & A & A & A\\\\\n",
       "\t  881 & C & C & C\\\\\n",
       "\t  886 & A & A & A\\\\\n",
       "\t  888 & B & B & B\\\\\n",
       "\t  890 & A & A & A\\\\\n",
       "\t  893 & C & C & C\\\\\n",
       "\t  897 & B & B & B\\\\\n",
       "\t  899 & B & C & B\\\\\n",
       "\t  903 & A & A & A\\\\\n",
       "\t  914 & C & B & C\\\\\n",
       "\t  915 & B & C & C\\\\\n",
       "\t  927 & C & C & C\\\\\n",
       "\t  933 & A & A & A\\\\\n",
       "\t  944 & A & A & A\\\\\n",
       "\t  945 & C & C & C\\\\\n",
       "\t  949 & C & C & C\\\\\n",
       "\t  953 & A & A & A\\\\\n",
       "\t  967 & B & B & C\\\\\n",
       "\t  970 & B & B & B\\\\\n",
       "\t  979 & C & B & C\\\\\n",
       "\t  991 & B & B & B\\\\\n",
       "\t  996 & C & C & C\\\\\n",
       "\t  997 & C & C & C\\\\\n",
       "\t 1000 & B & B & B\\\\\n",
       "\\end{tabular}\n"
      ],
      "text/markdown": [
       "\n",
       "A data.frame: 200 × 4\n",
       "\n",
       "| ID &lt;int&gt; | LDA &lt;fct&gt; | RF &lt;fct&gt; | LOG &lt;fct&gt; |\n",
       "|---|---|---|---|\n",
       "|  18 | C | C | C |\n",
       "|  23 | A | A | A |\n",
       "|  26 | C | C | C |\n",
       "|  32 | A | A | A |\n",
       "|  38 | B | C | B |\n",
       "|  46 | A | A | A |\n",
       "|  47 | C | C | C |\n",
       "|  50 | B | B | B |\n",
       "|  53 | B | B | B |\n",
       "|  57 | B | B | B |\n",
       "|  63 | C | C | C |\n",
       "|  64 | C | C | C |\n",
       "|  68 | C | C | C |\n",
       "|  74 | C | C | C |\n",
       "|  75 | B | B | B |\n",
       "|  78 | A | A | A |\n",
       "|  88 | C | B | C |\n",
       "|  90 | C | C | C |\n",
       "|  95 | B | B | B |\n",
       "|  96 | B | B | B |\n",
       "|  98 | B | B | B |\n",
       "| 106 | B | B | B |\n",
       "| 107 | C | C | C |\n",
       "| 114 | A | A | A |\n",
       "| 120 | C | C | C |\n",
       "| 131 | C | C | C |\n",
       "| 136 | B | B | B |\n",
       "| 142 | A | A | A |\n",
       "| 147 | C | C | C |\n",
       "| 151 | A | A | A |\n",
       "| ⋮ | ⋮ | ⋮ | ⋮ |\n",
       "|  840 | C | C | C |\n",
       "|  850 | B | B | B |\n",
       "|  861 | A | A | A |\n",
       "|  864 | B | B | B |\n",
       "|  866 | B | B | B |\n",
       "|  875 | C | C | C |\n",
       "|  877 | A | A | A |\n",
       "|  881 | C | C | C |\n",
       "|  886 | A | A | A |\n",
       "|  888 | B | B | B |\n",
       "|  890 | A | A | A |\n",
       "|  893 | C | C | C |\n",
       "|  897 | B | B | B |\n",
       "|  899 | B | C | B |\n",
       "|  903 | A | A | A |\n",
       "|  914 | C | B | C |\n",
       "|  915 | B | C | C |\n",
       "|  927 | C | C | C |\n",
       "|  933 | A | A | A |\n",
       "|  944 | A | A | A |\n",
       "|  945 | C | C | C |\n",
       "|  949 | C | C | C |\n",
       "|  953 | A | A | A |\n",
       "|  967 | B | B | C |\n",
       "|  970 | B | B | B |\n",
       "|  979 | C | B | C |\n",
       "|  991 | B | B | B |\n",
       "|  996 | C | C | C |\n",
       "|  997 | C | C | C |\n",
       "| 1000 | B | B | B |\n",
       "\n"
      ],
      "text/plain": [
       "    ID   LDA RF LOG\n",
       "1    18  C   C  C  \n",
       "2    23  A   A  A  \n",
       "3    26  C   C  C  \n",
       "4    32  A   A  A  \n",
       "5    38  B   C  B  \n",
       "6    46  A   A  A  \n",
       "7    47  C   C  C  \n",
       "8    50  B   B  B  \n",
       "9    53  B   B  B  \n",
       "10   57  B   B  B  \n",
       "11   63  C   C  C  \n",
       "12   64  C   C  C  \n",
       "13   68  C   C  C  \n",
       "14   74  C   C  C  \n",
       "15   75  B   B  B  \n",
       "16   78  A   A  A  \n",
       "17   88  C   B  C  \n",
       "18   90  C   C  C  \n",
       "19   95  B   B  B  \n",
       "20   96  B   B  B  \n",
       "21   98  B   B  B  \n",
       "22  106  B   B  B  \n",
       "23  107  C   C  C  \n",
       "24  114  A   A  A  \n",
       "25  120  C   C  C  \n",
       "26  131  C   C  C  \n",
       "27  136  B   B  B  \n",
       "28  142  A   A  A  \n",
       "29  147  C   C  C  \n",
       "30  151  A   A  A  \n",
       "⋮   ⋮    ⋮   ⋮  ⋮  \n",
       "171  840 C   C  C  \n",
       "172  850 B   B  B  \n",
       "173  861 A   A  A  \n",
       "174  864 B   B  B  \n",
       "175  866 B   B  B  \n",
       "176  875 C   C  C  \n",
       "177  877 A   A  A  \n",
       "178  881 C   C  C  \n",
       "179  886 A   A  A  \n",
       "180  888 B   B  B  \n",
       "181  890 A   A  A  \n",
       "182  893 C   C  C  \n",
       "183  897 B   B  B  \n",
       "184  899 B   C  B  \n",
       "185  903 A   A  A  \n",
       "186  914 C   B  C  \n",
       "187  915 B   C  C  \n",
       "188  927 C   C  C  \n",
       "189  933 A   A  A  \n",
       "190  944 A   A  A  \n",
       "191  945 C   C  C  \n",
       "192  949 C   C  C  \n",
       "193  953 A   A  A  \n",
       "194  967 B   B  C  \n",
       "195  970 B   B  B  \n",
       "196  979 C   B  C  \n",
       "197  991 B   B  B  \n",
       "198  996 C   C  C  \n",
       "199  997 C   C  C  \n",
       "200 1000 B   B  B  "
      ]
     },
     "metadata": {},
     "output_type": "display_data"
    }
   ],
   "source": [
    "# Importing the test_features.csv and perform all those adjustments on it too.\n",
    "test_feat <- read.csv(\"/kaggle/input/data-analytics-exam/test_features.csv\")\n",
    "test_feat$V5 <- as.numeric(gsub('\"', '', test_feat$V5))\n",
    "test_feat <- subset(test_feat, select = -c(V2, V4))\n",
    "\n",
    "# Split IDs\n",
    "test_ids <- test_feat$ID\n",
    "\n",
    "pred_lda_final <- predict(model_lda, subset(test_feat, select = -ID))\n",
    "pred_rf_final <- predict(model_rf,  subset(test_feat, select = -ID))\n",
    "pred_log_final <- predict(model_log, subset(test_feat, select = -ID))\n",
    "\n",
    "data.frame(\n",
    "  ID = test_ids,\n",
    "  LDA = pred_lda_final,\n",
    "  RF = pred_rf_final,\n",
    "  LOG = pred_log_final\n",
    ")"
   ]
  },
  {
   "cell_type": "markdown",
   "id": "67b8954c",
   "metadata": {
    "papermill": {
     "duration": 0.015951,
     "end_time": "2025-06-25T04:55:44.984761",
     "exception": false,
     "start_time": "2025-06-25T04:55:44.968810",
     "status": "completed"
    },
    "tags": []
   },
   "source": [
    "Although Random Forest was more accurate, I chose Multinomial Logistic Regression because it is easier to understand and interpret. This model clearly shows how each feature influences the outcome, making it better for explaining results. It is also simpler and faster to train, requiring less computational effort. Overall, it offers a good balance between performance and interpretability."
   ]
  },
  {
   "cell_type": "markdown",
   "id": "80239a6e",
   "metadata": {
    "papermill": {
     "duration": 0.016315,
     "end_time": "2025-06-25T04:55:45.017096",
     "exception": false,
     "start_time": "2025-06-25T04:55:45.000781",
     "status": "completed"
    },
    "tags": []
   },
   "source": [
    "## 10. Export the final output"
   ]
  },
  {
   "cell_type": "code",
   "execution_count": 26,
   "id": "789f3107",
   "metadata": {
    "execution": {
     "iopub.execute_input": "2025-06-25T04:55:45.053367Z",
     "iopub.status.busy": "2025-06-25T04:55:45.051867Z",
     "iopub.status.idle": "2025-06-25T04:55:45.069697Z",
     "shell.execute_reply": "2025-06-25T04:55:45.067849Z"
    },
    "papermill": {
     "duration": 0.038712,
     "end_time": "2025-06-25T04:55:45.072353",
     "exception": false,
     "start_time": "2025-06-25T04:55:45.033641",
     "status": "completed"
    },
    "tags": []
   },
   "outputs": [],
   "source": [
    "results_export <- data.frame(ID = test_ids, Prediction = pred_log_final)\n",
    "write.csv(results_export, \"79182_predictions.csv\", row.names = FALSE)"
   ]
  },
  {
   "cell_type": "markdown",
   "id": "a1287c92",
   "metadata": {
    "papermill": {
     "duration": 0.016151,
     "end_time": "2025-06-25T04:55:45.104475",
     "exception": false,
     "start_time": "2025-06-25T04:55:45.088324",
     "status": "completed"
    },
    "tags": []
   },
   "source": [
    "## 11. Test Evaluations"
   ]
  },
  {
   "cell_type": "code",
   "execution_count": 27,
   "id": "598a8ac9",
   "metadata": {
    "execution": {
     "iopub.execute_input": "2025-06-25T04:55:45.140492Z",
     "iopub.status.busy": "2025-06-25T04:55:45.138693Z",
     "iopub.status.idle": "2025-06-25T04:55:45.205684Z",
     "shell.execute_reply": "2025-06-25T04:55:45.203437Z"
    },
    "papermill": {
     "duration": 0.088117,
     "end_time": "2025-06-25T04:55:45.208673",
     "exception": false,
     "start_time": "2025-06-25T04:55:45.120556",
     "status": "completed"
    },
    "tags": []
   },
   "outputs": [
    {
     "name": "stdout",
     "output_type": "stream",
     "text": [
      "Confusion Matrix and Statistics\n",
      "\n",
      "          Reference\n",
      "Prediction  A  B  C\n",
      "         A 72  1  0\n",
      "         B  0 46 11\n",
      "         C  0 15 55\n",
      "\n",
      "Overall Statistics\n",
      "                                          \n",
      "               Accuracy : 0.865           \n",
      "                 95% CI : (0.8097, 0.9091)\n",
      "    No Information Rate : 0.36            \n",
      "    P-Value [Acc > NIR] : < 2.2e-16       \n",
      "                                          \n",
      "                  Kappa : 0.7969          \n",
      "                                          \n",
      " Mcnemar's Test P-Value : NA              \n",
      "\n",
      "Statistics by Class:\n",
      "\n",
      "                     Class: A Class: B Class: C\n",
      "Sensitivity            1.0000   0.7419   0.8333\n",
      "Specificity            0.9922   0.9203   0.8881\n",
      "Pos Pred Value         0.9863   0.8070   0.7857\n",
      "Neg Pred Value         1.0000   0.8881   0.9154\n",
      "Prevalence             0.3600   0.3100   0.3300\n",
      "Detection Rate         0.3600   0.2300   0.2750\n",
      "Detection Prevalence   0.3650   0.2850   0.3500\n",
      "Balanced Accuracy      0.9961   0.8311   0.8607\n"
     ]
    },
    {
     "data": {
      "text/html": [
       "<strong>Accuracy:</strong> 0.865"
      ],
      "text/latex": [
       "\\textbf{Accuracy:} 0.865"
      ],
      "text/markdown": [
       "**Accuracy:** 0.865"
      ],
      "text/plain": [
       "Accuracy \n",
       "   0.865 "
      ]
     },
     "metadata": {},
     "output_type": "display_data"
    },
    {
     "name": "stdout",
     "output_type": "stream",
     "text": [
      "Accuracy: 0.865 \n"
     ]
    }
   ],
   "source": [
    "# Load predictions from your model\n",
    "true_labels <- read.csv(\"/kaggle/input/data-analytics-exam/test_labels.csv\")\n",
    "student_pred <- read.csv(\"79182_predictions.csv\")\n",
    "merged <- merge(true_labels, student_pred, by = \"ID\")\n",
    "merged$target <- factor(merged$target)\n",
    "merged$Prediction <- factor(merged$Prediction, levels = levels(merged$target))\n",
    "\n",
    "# Confusion Matrix and accuracy\n",
    "conf_mat <- confusionMatrix(merged$Prediction, merged$target)\n",
    "print(conf_mat)\n",
    "conf_mat$overall[1]\n",
    "acc <- conf_mat$overall[1]\n",
    "cat(\"Accuracy:\", round(acc, 4), \"\\n\")"
   ]
  },
  {
   "cell_type": "markdown",
   "id": "a595b519",
   "metadata": {
    "papermill": {
     "duration": 0.016121,
     "end_time": "2025-06-25T04:55:45.241388",
     "exception": false,
     "start_time": "2025-06-25T04:55:45.225267",
     "status": "completed"
    },
    "tags": []
   },
   "source": [
    "---"
   ]
  }
 ],
 "metadata": {
  "kaggle": {
   "accelerator": "none",
   "dataSources": [
    {
     "datasetId": 7732514,
     "sourceId": 12270614,
     "sourceType": "datasetVersion"
    }
   ],
   "dockerImageVersionId": 30749,
   "isGpuEnabled": false,
   "isInternetEnabled": true,
   "language": "r",
   "sourceType": "notebook"
  },
  "kernelspec": {
   "display_name": "R",
   "language": "R",
   "name": "ir"
  },
  "language_info": {
   "codemirror_mode": "r",
   "file_extension": ".r",
   "mimetype": "text/x-r-source",
   "name": "R",
   "pygments_lexer": "r",
   "version": "4.4.0"
  },
  "papermill": {
   "default_parameters": {},
   "duration": 29.183441,
   "end_time": "2025-06-25T04:55:45.380989",
   "environment_variables": {},
   "exception": null,
   "input_path": "__notebook__.ipynb",
   "output_path": "__notebook__.ipynb",
   "parameters": {},
   "start_time": "2025-06-25T04:55:16.197548",
   "version": "2.6.0"
  }
 },
 "nbformat": 4,
 "nbformat_minor": 5
}
